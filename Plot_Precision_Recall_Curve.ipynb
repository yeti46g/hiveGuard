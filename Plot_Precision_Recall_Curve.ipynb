{
 "cells": [
  {
   "cell_type": "code",
   "execution_count": 137,
   "id": "recreational-vintage",
   "metadata": {},
   "outputs": [],
   "source": [
    "import pandas as pd\n",
    "df_gd = pd.read_csv('hiveGuard/Validation/ground_true.csv')"
   ]
  },
  {
   "cell_type": "code",
   "execution_count": 138,
   "id": "unlike-gabriel",
   "metadata": {},
   "outputs": [],
   "source": [
    "threshold = 0\n",
    "x = []\n",
    "y = []"
   ]
  },
  {
   "cell_type": "code",
   "execution_count": 139,
   "id": "homeless-doctrine",
   "metadata": {},
   "outputs": [],
   "source": [
    "for i in range(0,10):\n",
    "    threshold = i\n",
    "    ## precision == true positive / (true positve + false positive)\n",
    "\n",
    "    ## Recall == True Positive / (True Positive + False Negative)\n",
    "\n",
    "    df = pd.read_csv('hiveGuard/Validation/horneBee_fromColab/hornetBee_'\n",
    "                     +str(threshold)+'/Detection_Results.csv')\n",
    "\n",
    "    df = df[df.label==0]\n",
    "\n",
    "    TP = 0\n",
    "    FN = 0\n",
    "    FP = 0\n",
    "\n",
    "    for image in set(df_gd.image):\n",
    "\n",
    "        count_gd = df_gd[df_gd.image==image].count()['image']\n",
    "        count_pred = df[df.image==image].count()['image']\n",
    "\n",
    "        if count_gd >= count_pred:\n",
    "\n",
    "            TP += count_pred\n",
    "            FN += (count_gd - count_pred)  \n",
    "\n",
    "        else: \n",
    "            TP += count_gd\n",
    "            FP += (count_pred - count_gd)\n",
    "\n",
    "    precision = TP / (TP + FP)\n",
    "    recall = TP / (TP + FN)\n",
    "    \n",
    "    y.append(precision)\n",
    "    x.append(recall)"
   ]
  },
  {
   "cell_type": "code",
   "execution_count": 142,
   "id": "demographic-november",
   "metadata": {},
   "outputs": [],
   "source": [
    "import matplotlib.pyplot as plt"
   ]
  },
  {
   "cell_type": "code",
   "execution_count": 148,
   "id": "tight-browser",
   "metadata": {},
   "outputs": [
    {
     "data": {
      "text/plain": [
       "Text(0.5, 1.0, 'Precision-Recall Curve')"
      ]
     },
     "execution_count": 148,
     "metadata": {},
     "output_type": "execute_result"
    },
    {
     "data": {
      "image/png": "[encoded data removed]",
      "text/plain": [
       "<Figure size 432x288 with 1 Axes>"
      ]
     },
     "metadata": {
      "needs_background": "light"
     },
     "output_type": "display_data"
    }
   ],
   "source": [
    "plt.plot(x,y)\n",
    "plt.xlabel(\"Recall\",fontsize=16)\n",
    "plt.ylabel(\"Precision\",fontsize=16)\n",
    "plt.title(\"Precision-Recall Curve\")"
   ]
  }
 ],
 "metadata": {
  "kernelspec": {
   "display_name": "Python 3",
   "language": "python",
   "name": "python3"
  },
  "language_info": {
   "codemirror_mode": {
    "name": "ipython",
    "version": 3
   },
   "file_extension": ".py",
   "mimetype": "text/x-python",
   "name": "python",
   "nbconvert_exporter": "python",
   "pygments_lexer": "ipython3",
   "version": "3.6.9"
  }
 },
 "nbformat": 4,
 "nbformat_minor": 5
}
